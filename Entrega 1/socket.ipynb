{
 "cells": [
  {
   "cell_type": "code",
   "execution_count": null,
   "metadata": {},
   "outputs": [],
   "source": [
    "import socket\n",
    "\n",
    "def main(host=\"localhost\", port=23):\n",
    "\n",
    "    adrr = (host, port)\n",
    "    dest = (host, 1044)\n",
    "\n",
    "    buffer_size = 1024\n",
    "    udp = socket.socket(socket.AF_INET, socket.SOCK_DGRAM)\n",
    "\n",
    "    udp.bind(adrr)\n",
    "\n",
    "    while True:\n",
    "\n",
    "        data = \"Olá server\"\n",
    "        udp.sendto(data.encode(), dest)\n",
    "\n",
    "            with open(linkdata, 'rb') as f:\n",
    "                l = f.read(buffer_size)\n",
    "                while l:\n",
    "                    udp.sendto(l, dest)\n",
    "                    l = f.read(buffer_size)\n",
    "                udp.sendto(b'', dest)\n",
    "\n",
    "            _, servidor = udp.recvfrom(buffer_size)\n",
    "            extention = extention.decode('utf-8')\n",
    "\n",
    "            with open(linkdatarcv, 'wb') as f:\n",
    "                while True:\n",
    "                    msg, servidor = udp.recfrom(buffer_size)\n",
    "                    if not msg:\n",
    "                        break\n",
    "                    f.write(msg)\n",
    "\n",
    "    server.close()\n",
    "\n"
   ]
  }
 ],
 "metadata": {
  "language_info": {
   "name": "python"
  }
 },
 "nbformat": 4,
 "nbformat_minor": 2
}
